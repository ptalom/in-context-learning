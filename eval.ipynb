{
 "cells": [
  {
   "cell_type": "code",
   "execution_count": 156,
   "id": "310ff4e3",
   "metadata": {},
   "outputs": [],
   "source": [
    "from collections import OrderedDict\n",
    "import os\n",
    "import re\n",
    "import json\n",
    "\n",
    "import matplotlib.pyplot as plt\n",
    "import pandas as pd\n",
    "import seaborn as sns\n",
    "import torch\n",
    "from tqdm.notebook import tqdm\n",
    "\n",
    "from plot_utils import basic_plot, collect_results, relevant_model_names\n",
    "\n",
    "from eval import read_run_dir, get_model_from_run, eval_batch, eval_model, generate_eval_data"
   ]
  },
  {
   "cell_type": "code",
   "execution_count": 157,
   "id": "3defdf0c",
   "metadata": {},
   "outputs": [
    {
     "name": "stdout",
     "output_type": "stream",
     "text": [
      "The autoreload extension is already loaded. To reload it, use:\n",
      "  %reload_ext autoreload\n"
     ]
    }
   ],
   "source": [
    "%matplotlib inline\n",
    "%load_ext autoreload\n",
    "%autoreload 2\n",
    "\n",
    "sns.set_theme('notebook', 'darkgrid')\n",
    "palette = sns.color_palette('colorblind')"
   ]
  },
  {
   "cell_type": "code",
   "execution_count": 158,
   "id": "4616c81f",
   "metadata": {},
   "outputs": [
    {
     "data": {
      "text/html": [
       "<div>\n",
       "<style scoped>\n",
       "    .dataframe tbody tr th:only-of-type {\n",
       "        vertical-align: middle;\n",
       "    }\n",
       "\n",
       "    .dataframe tbody tr th {\n",
       "        vertical-align: top;\n",
       "    }\n",
       "\n",
       "    .dataframe thead th {\n",
       "        text-align: right;\n",
       "    }\n",
       "</style>\n",
       "<table border=\"1\" class=\"dataframe\">\n",
       "  <thead>\n",
       "    <tr style=\"text-align: right;\">\n",
       "      <th></th>\n",
       "      <th>run_id</th>\n",
       "      <th>model</th>\n",
       "      <th>task</th>\n",
       "      <th>run_path</th>\n",
       "    </tr>\n",
       "  </thead>\n",
       "  <tbody>\n",
       "    <tr>\n",
       "      <th>0</th>\n",
       "      <td>2025-09-01_15-04-29</td>\n",
       "      <td>transformer</td>\n",
       "      <td>matrix_factorization</td>\n",
       "      <td>outputs/matrix_factorization/2025-09-01_15-04-29</td>\n",
       "    </tr>\n",
       "    <tr>\n",
       "      <th>1</th>\n",
       "      <td>2025-09-06_13-08-09</td>\n",
       "      <td>transformer</td>\n",
       "      <td>sparse_recovery</td>\n",
       "      <td>outputs/sparse_recovery/2025-09-06_13-08-09</td>\n",
       "    </tr>\n",
       "  </tbody>\n",
       "</table>\n",
       "</div>"
      ],
      "text/plain": [
       "                run_id        model                  task  \\\n",
       "0  2025-09-01_15-04-29  transformer  matrix_factorization   \n",
       "1  2025-09-06_13-08-09  transformer       sparse_recovery   \n",
       "\n",
       "                                           run_path  \n",
       "0  outputs/matrix_factorization/2025-09-01_15-04-29  \n",
       "1       outputs/sparse_recovery/2025-09-06_13-08-09  "
      ]
     },
     "execution_count": 158,
     "metadata": {},
     "output_type": "execute_result"
    }
   ],
   "source": [
    "run_dir = \"outputs\"  # ton dossier outputs\n",
    "\n",
    "# --- Lire toutes les runs ---\n",
    "df_runs = read_run_dir(run_dir)\n",
    "df_runs  # affiche les runs disponibles"
   ]
  },
  {
   "cell_type": "code",
   "execution_count": 172,
   "id": "ad2d5e53",
   "metadata": {},
   "outputs": [],
   "source": [
    "task = \"sparse_recovery\"\n",
    "#task = \"matrix_factorization\"\n",
    "\n",
    "run_id = \"2025-09-06_13-08-09\"\n",
    "\n",
    "recompute_metrics = False\n",
    "\n",
    "run_path = os.path.join(run_dir, task, run_id)\n",
    "run_path\n",
    "\n",
    "if recompute_metrics:\n",
    "    get_run_metrics(run_path)"
   ]
  },
  {
   "cell_type": "code",
   "execution_count": 178,
   "id": "50f74eff",
   "metadata": {},
   "outputs": [
    {
     "name": "stdout",
     "output_type": "stream",
     "text": [
      "transformer 2025-09-06_13-08-09\n"
     ]
    },
    {
     "name": "stderr",
     "output_type": "stream",
     "text": [
      "100%|██████████████████████████████████████████| 1/1 [00:00<00:00, 24818.37it/s]\n",
      "No artists with labels found to put in legend.  Note that artists whose label start with an underscore are ignored when legend() is called with no argument.\n"
     ]
    },
    {
     "data": {
      "image/png": "[encoded data removed]",
      "text/plain": [
       "<Figure size 600x400 with 1 Axes>"
      ]
     },
     "metadata": {},
     "output_type": "display_data"
    }
   ],
   "source": [
    "def valid_row(r):\n",
    "    return r.task == task and r.run_id == run_id\n",
    "\n",
    "metrics = collect_results(run_dir, df_runs, valid_row=valid_row)\n",
    "_, conf = get_model_from_run(run_path, only_conf=True)\n",
    "n_dims = conf[\"model\"][\"n_dims\"]\n",
    "\n",
    "models = relevant_model_names[task]\n",
    "\n",
    "basic_plot(metrics[\"default_eval\"], models=models)\n",
    "plt.show()"
   ]
  },
  {
   "cell_type": "code",
   "execution_count": null,
   "id": "e9a14a88",
   "metadata": {},
   "outputs": [],
   "source": []
  }
 ],
 "metadata": {
  "kernelspec": {
   "display_name": "Python 3 (ipykernel)",
   "language": "python",
   "name": "python3"
  },
  "language_info": {
   "codemirror_mode": {
    "name": "ipython",
    "version": 3
   },
   "file_extension": ".py",
   "mimetype": "text/x-python",
   "name": "python",
   "nbconvert_exporter": "python",
   "pygments_lexer": "ipython3",
   "version": "3.10.5"
  }
 },
 "nbformat": 4,
 "nbformat_minor": 5
}
