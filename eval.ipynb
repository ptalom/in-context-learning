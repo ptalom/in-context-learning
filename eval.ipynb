{
 "cells": [
  {
   "cell_type": "code",
   "execution_count": 24,
   "id": "5684755c",
   "metadata": {},
   "outputs": [],
   "source": [
    "import torch\n",
    "import numpy as np\n",
    "import matplotlib.pyplot as plt\n",
    "import yaml\n",
    "import os\n",
    "\n",
    "from samplers import CompressedSensingSampler, MatrixFactorizationSampler\n",
    "from sparse_recovery.compressed_sensing import calculate_coherence\n"
   ]
  },
  {
   "cell_type": "code",
   "execution_count": 34,
   "id": "936306ae",
   "metadata": {},
   "outputs": [
    {
     "name": "stdout",
     "output_type": "stream",
     "text": [
      "=== Configuration du training ===\n",
      "[task]\n",
      "{'name': 'sparse_recovery', 'kwargs': {'N': 50, 's': 3, 'Phi': 'normal', 'd': 20, 'tau': 0.5}}\n",
      "\n",
      "[model]\n",
      "{'type': 'transformer', 'n_dims': 20, 'd_model': 64, 'nhead': 4, 'num_layers': 2, 'dim_feedforward': 128, 'n_positions': 101}\n",
      "\n",
      "[training]\n",
      "{'batch_size': 64, 'learning_rate': 0.0001, 'train_steps': 10, 'save_every_steps': 5, 'keep_every_steps': 2, 'print_every': 10}\n",
      "\n",
      "[out_dir]\n",
      "outputs/compressed_sensing\n",
      "\n"
     ]
    }
   ],
   "source": [
    "out_dir = \"outputs/compressed_sensing\"\n",
    "\n",
    "config_path = os.path.join(\"conf\", \"compressed_sensing.yaml\")\n",
    "with open(config_path, \"r\") as f:\n",
    "    conf = yaml.safe_load(f)\n",
    "\n",
    "print(\"=== Configuration du training ===\")\n",
    "for section, params in conf.items():\n",
    "    print(f\"[{section}]\")\n",
    "    print(params)\n",
    "    print()\n"
   ]
  },
  {
   "cell_type": "markdown",
   "id": "d819579d",
   "metadata": {},
   "source": [
    "###### !python train.py --config conf/matrix_factorization.yaml.yaml"
   ]
  },
  {
   "cell_type": "code",
   "execution_count": null,
   "id": "8f46aeab",
   "metadata": {},
   "outputs": [],
   "source": []
  }
 ],
 "metadata": {
  "kernelspec": {
   "display_name": "Python 3 (ipykernel)",
   "language": "python",
   "name": "python3"
  },
  "language_info": {
   "codemirror_mode": {
    "name": "ipython",
    "version": 3
   },
   "file_extension": ".py",
   "mimetype": "text/x-python",
   "name": "python",
   "nbconvert_exporter": "python",
   "pygments_lexer": "ipython3",
   "version": "3.10.5"
  }
 },
 "nbformat": 4,
 "nbformat_minor": 5
}
